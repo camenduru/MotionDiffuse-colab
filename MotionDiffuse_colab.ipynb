{
  "cells": [
    {
      "cell_type": "markdown",
      "metadata": {
        "id": "view-in-github"
      },
      "source": [
        "[![Open In Colab](https://colab.research.google.com/assets/colab-badge.svg)](https://colab.research.google.com/github/camenduru/MotionDiffuse-colab/blob/main/MotionDiffuse_colab.ipynb)"
      ]
    },
    {
      "cell_type": "code",
      "execution_count": null,
      "metadata": {
        "id": "VjYy0F2gZIPR"
      },
      "outputs": [],
      "source": [
        "%cd /content\n",
        "!git clone -b dev https://github.com/camenduru/MotionDiffuse-hf\n",
        "%cd /content/MotionDiffuse-hf\n",
        "\n",
        "!apt -y install -qq aria2\n",
        "!aria2c --console-log-level=error -c -x 16 -s 16 -k 1M https://huggingface.co/camenduru/MotionDiffuse/resolve/main/mean.npy -d /content/MotionDiffuse-hf/checkpoints/t2m/t2m_motiondiffuse/meta -o mean.npy\n",
        "!aria2c --console-log-level=error -c -x 16 -s 16 -k 1M https://huggingface.co/camenduru/MotionDiffuse/resolve/main/std.npy -d /content/MotionDiffuse-hf/checkpoints/t2m/t2m_motiondiffuse/meta -o std.npy\n",
        "!aria2c --console-log-level=error -c -x 16 -s 16 -k 1M https://huggingface.co/camenduru/MotionDiffuse/resolve/main/latest.tar -d /content/MotionDiffuse-hf/checkpoints/t2m/t2m_motiondiffuse/meta -o latest.tar\n",
        "\n",
        "!pip install -q mmcv git+https://github.com/openai/CLIP.git\n"
      ]
    }
  ],
  "metadata": {
    "accelerator": "GPU",
    "colab": {
      "gpuType": "T4",
      "provenance": []
    },
    "kernelspec": {
      "display_name": "Python 3",
      "name": "python3"
    },
    "language_info": {
      "name": "python"
    }
  },
  "nbformat": 4,
  "nbformat_minor": 0
}
