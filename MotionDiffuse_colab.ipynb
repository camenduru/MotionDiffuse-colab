{
  "cells": [
    {
      "cell_type": "markdown",
      "metadata": {
        "id": "view-in-github"
      },
      "source": [
        "[![Open In Colab](https://colab.research.google.com/assets/colab-badge.svg)](https://colab.research.google.com/github/camenduru/MotionDiffuse-colab/blob/main/MotionDiffuse_colab.ipynb)"
      ]
    },
    {
      "cell_type": "code",
      "execution_count": null,
      "metadata": {
        "id": "VjYy0F2gZIPR"
      },
      "outputs": [],
      "source": [
        "%cd /content\n",
        "!git clone -b dev https://github.com/camenduru/MotionDiffuse-hf\n",
        "%cd /content/MotionDiffuse-hf\n",
        "\n",
        "!apt -y install -qq aria2\n",
        "!aria2c --console-log-level=error -c -x 16 -s 16 -k 1M https://huggingface.co/camenduru/MotionDiffuse/resolve/main/mean.npy -d /content/MotionDiffuse-hf/checkpoints/t2m/t2m_motiondiffuse/meta -o mean.npy\n",
        "!aria2c --console-log-level=error -c -x 16 -s 16 -k 1M https://huggingface.co/camenduru/MotionDiffuse/resolve/main/std.npy -d /content/MotionDiffuse-hf/checkpoints/t2m/t2m_motiondiffuse/meta -o std.npy\n",
        "!aria2c --console-log-level=error -c -x 16 -s 16 -k 1M https://huggingface.co/camenduru/MotionDiffuse/resolve/main/latest.tar -d /content/MotionDiffuse-hf/checkpoints/t2m/t2m_motiondiffuse/model -o latest.tar\n",
        "\n",
        "!pip install -q https://github.com/camenduru/insightface-face-detection-colab/releases/download/v0.1/mmcv_full-1.7.0-cp310-cp310-linux_x86_64.whl\n",
        "!pip install -q git+https://github.com/openai/CLIP.git gradio matplotlib==3.3.1\n",
        "\n",
        "!python app.py"
      ]
    }
  ],
  "metadata": {
    "accelerator": "GPU",
    "colab": {
      "gpuType": "T4",
      "provenance": []
    },
    "kernelspec": {
      "display_name": "Python 3",
      "name": "python3"
    },
    "language_info": {
      "name": "python"
    }
  },
  "nbformat": 4,
  "nbformat_minor": 0
}
